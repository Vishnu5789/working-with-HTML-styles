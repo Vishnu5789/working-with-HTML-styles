{
  "nbformat": 4,
  "nbformat_minor": 0,
  "metadata": {
    "colab": {
      "name": "qr_code.ipynb",
      "provenance": [],
      "collapsed_sections": [],
      "authorship_tag": "ABX9TyNwGJg1rzXoTXJOFyLv+qEf",
      "include_colab_link": true
    },
    "kernelspec": {
      "name": "python3",
      "display_name": "Python 3"
    },
    "language_info": {
      "name": "python"
    }
  },
  "cells": [
    {
      "cell_type": "markdown",
      "metadata": {
        "id": "view-in-github",
        "colab_type": "text"
      },
      "source": [
        "<a href=\"https://colab.research.google.com/github/Vishnu5789/working-with-HTML-styles/blob/main/qr_code.ipynb\" target=\"_parent\"><img src=\"https://colab.research.google.com/assets/colab-badge.svg\" alt=\"Open In Colab\"/></a>"
      ]
    },
    {
      "cell_type": "code",
      "execution_count": 2,
      "metadata": {
        "colab": {
          "base_uri": "https://localhost:8080/"
        },
        "id": "R27O3XAEzI2D",
        "outputId": "6d949a65-c5f3-4068-dafe-dea24192dae9"
      },
      "outputs": [
        {
          "output_type": "stream",
          "name": "stdout",
          "text": [
            "5.0\n"
          ]
        }
      ],
      "source": [
        "import numpy as np \n",
        "ls=[1,2,3,4,5,6,7,8,9]\n",
        "print(np.median(ls))"
      ]
    },
    {
      "cell_type": "code",
      "source": [
        "!pip install qrcode \n",
        "import qrcode \n",
        "qr=qrcode.make(\"hello world\") \n",
        "qr.save(\"hello.png\")\n",
        "qr.show()"
      ],
      "metadata": {
        "colab": {
          "base_uri": "https://localhost:8080/"
        },
        "id": "MYTfAs5Dz7dZ",
        "outputId": "cb56d6c2-8951-4ca1-af55-ee3f8ca0c8fe"
      },
      "execution_count": 7,
      "outputs": [
        {
          "output_type": "stream",
          "name": "stdout",
          "text": [
            "Requirement already satisfied: qrcode in /usr/local/lib/python3.7/dist-packages (7.3.1)\n"
          ]
        }
      ]
    }
  ]
}
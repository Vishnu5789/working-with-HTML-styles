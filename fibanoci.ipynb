{
  "nbformat": 4,
  "nbformat_minor": 0,
  "metadata": {
    "colab": {
      "name": "Untitled1.ipynb",
      "provenance": [],
      "collapsed_sections": [],
      "authorship_tag": "ABX9TyNoIIrnlxCgh9jZf08t0hGF",
      "include_colab_link": true
    },
    "kernelspec": {
      "name": "python3",
      "display_name": "Python 3"
    },
    "language_info": {
      "name": "python"
    }
  },
  "cells": [
    {
      "cell_type": "markdown",
      "metadata": {
        "id": "view-in-github",
        "colab_type": "text"
      },
      "source": [
        "<a href=\"https://colab.research.google.com/github/Vishnu5789/working-with-HTML-styles/blob/main/fibanoci.ipynb\" target=\"_parent\"><img src=\"https://colab.research.google.com/assets/colab-badge.svg\" alt=\"Open In Colab\"/></a>"
      ]
    },
    {
      "cell_type": "code",
      "execution_count": 3,
      "metadata": {
        "colab": {
          "base_uri": "https://localhost:8080/"
        },
        "id": "pSlVtjWU8Uj2",
        "outputId": "1ac68fc5-37e8-4d7e-92fb-6f9553ed3b50"
      },
      "outputs": [
        {
          "output_type": "stream",
          "name": "stdout",
          "text": [
            "enter n value354\n",
            "the reverse is 453\n"
          ]
        }
      ],
      "source": [
        "n=int(input(\"enter n value\")) \n",
        "r=0 \n",
        "rev=0 \n",
        "while n!=0: \n",
        "  r=n%10 \n",
        "  rev=(rev*10)+r \n",
        "  n=n//10 \n",
        "print(\"the reverse is\",rev) \n"
      ]
    },
    {
      "cell_type": "code",
      "source": [
        "n=int(input(\"enter n value\")) \n",
        "for i in range(5): \n",
        "  n1=n \n",
        "  r=0 \n",
        "  rev=0 \n",
        "  while n!=0: \n",
        "    r=n%10 \n",
        "    rev=(rev*10)+r \n",
        "    n=n//10\n",
        "  if n1==rev: \n",
        "    print(n1,\"is sum palindrom\") \n",
        "    break\n",
        "  else: \n",
        "    n=rev+n1"
      ],
      "metadata": {
        "colab": {
          "base_uri": "https://localhost:8080/"
        },
        "id": "1qviJEcm-Ybs",
        "outputId": "a0f63ea2-2256-484b-c4ce-2d62237c8af3"
      },
      "execution_count": 8,
      "outputs": [
        {
          "output_type": "stream",
          "name": "stdout",
          "text": [
            "enter n value653\n",
            "11011 is sum palindrom\n"
          ]
        }
      ]
    },
    {
      "cell_type": "code",
      "source": [
        "str=\"sri vasavi engg college\" \n",
        "for i in str: \n",
        "  if i=='e': \n",
        "    continue \n",
        "  else: \n",
        "    print(i,end=\" \")\n",
        "print(\"out of for loop\")\n",
        "  "
      ],
      "metadata": {
        "colab": {
          "base_uri": "https://localhost:8080/"
        },
        "id": "VFgGsHPTB974",
        "outputId": "75181dc6-7d75-4d5d-c2b6-6e39f72b2b69"
      },
      "execution_count": 26,
      "outputs": [
        {
          "output_type": "stream",
          "name": "stdout",
          "text": [
            "s s r r i i     v v a a s s a a v v i i     n n g g g g     c c o o l l l l g g out of for loop\n"
          ]
        }
      ]
    },
    {
      "cell_type": "code",
      "source": [
        "str=\"sri vasavi engg college\" \n",
        "for i in str: \n",
        "  if i=='e': \n",
        "    break \n",
        "  else: \n",
        "    print(i,end=\" \") \n",
        "print(\"out of for loop\")\n",
        "  "
      ],
      "metadata": {
        "colab": {
          "base_uri": "https://localhost:8080/"
        },
        "id": "I7k4w91XGUkO",
        "outputId": "835e3e6a-6a00-479f-da00-d2c404e28fc4"
      },
      "execution_count": 22,
      "outputs": [
        {
          "output_type": "stream",
          "name": "stdout",
          "text": [
            "s r i   v a s a v i   out of for loop\n"
          ]
        }
      ]
    },
    {
      "cell_type": "code",
      "source": [
        "str=\"sri vasavi engg college\" \n",
        "for i in str: \n",
        "  if i=='e': \n",
        "    pass \n",
        "  else: \n",
        "    print(i,end=\" \") \n",
        "  print(i, end = \" \")\n",
        "print(\"out of for loop\")\n",
        "  "
      ],
      "metadata": {
        "colab": {
          "base_uri": "https://localhost:8080/"
        },
        "id": "uS2asFZrGaYR",
        "outputId": "632d81c1-ed03-4703-9965-e6a8277c7f6a"
      },
      "execution_count": 27,
      "outputs": [
        {
          "output_type": "stream",
          "name": "stdout",
          "text": [
            "s s r r i i     v v a a s s a a v v i i     e n n g g g g     c c o o l l l l e g g e out of for loop\n"
          ]
        }
      ]
    },
    {
      "cell_type": "code",
      "source": [
        "n=int(input(\"enter the no of rows\")) \n",
        "for i in range(1,n+1): \n",
        "  for j in range(1,i+1): \n",
        "    print(\"*\",end=\" \") \n",
        "  print() \n",
        "for i in range(1,n): \n",
        "  for j in range(1,n-i+1): \n",
        "    print(\"*\",end=\" \") \n",
        "  print() \n"
      ],
      "metadata": {
        "colab": {
          "base_uri": "https://localhost:8080/"
        },
        "id": "NnF587sdCooR",
        "outputId": "6137ba46-d1b0-4457-debc-5656a76a9dfc"
      },
      "execution_count": 15,
      "outputs": [
        {
          "output_type": "stream",
          "name": "stdout",
          "text": [
            "enter the no of rows5\n",
            "* \n",
            "* * \n",
            "* * * \n",
            "* * * * \n",
            "* * * * * \n",
            "* * * * \n",
            "* * * \n",
            "* * \n",
            "* \n"
          ]
        }
      ]
    },
    {
      "cell_type": "code",
      "source": [
        "n=int(input(\"enter the range\")) \n",
        "sum=0 \n",
        "a=0 \n",
        "b=1 \n",
        "for i in range(2,n): \n",
        "  c=a+b \n",
        "  a=b \n",
        "  b=c \n",
        "  if i%2==0: \n",
        "    sum=sum+c \n",
        "print(\"sum of even index values is=\",sum)"
      ],
      "metadata": {
        "colab": {
          "base_uri": "https://localhost:8080/"
        },
        "id": "s-EwCpidErlD",
        "outputId": "205ce829-3102-4ef9-b756-157fe22e0fba"
      },
      "execution_count": 16,
      "outputs": [
        {
          "output_type": "stream",
          "name": "stdout",
          "text": [
            "enter the range10\n",
            "sum of even index values is= 33\n"
          ]
        }
      ]
    },
    {
      "cell_type": "code",
      "source": [
        "n=int(input(\"enter the range\")) \n",
        "sum=0 \n",
        "a=0 \n",
        "b=1  \n",
        "print(\"the fabinoci sequence are:\",a,b,end=\" \")\n",
        "for i in range(3,n+1): \n",
        "  c=a+b  \n",
        "  print(c,end=\" \")\n",
        "  a=b \n",
        "  b=c "
      ],
      "metadata": {
        "colab": {
          "base_uri": "https://localhost:8080/"
        },
        "id": "01Th-xmhIDph",
        "outputId": "4471b032-addd-4bd8-f859-3abae6588053"
      },
      "execution_count": 41,
      "outputs": [
        {
          "output_type": "stream",
          "name": "stdout",
          "text": [
            "enter the range10\n",
            "the fabinoci sequence are: 0 1 1 2 3 5 8 13 21 34 "
          ]
        }
      ]
    }
  ]
}
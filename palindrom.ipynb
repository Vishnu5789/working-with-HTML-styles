{
  "nbformat": 4,
  "nbformat_minor": 0,
  "metadata": {
    "colab": {
      "name": "Untitled1.ipynb",
      "provenance": [],
      "collapsed_sections": [],
      "authorship_tag": "ABX9TyNDn7eaELEDcndK0qvflqgY",
      "include_colab_link": true
    },
    "kernelspec": {
      "name": "python3",
      "display_name": "Python 3"
    },
    "language_info": {
      "name": "python"
    }
  },
  "cells": [
    {
      "cell_type": "markdown",
      "metadata": {
        "id": "view-in-github",
        "colab_type": "text"
      },
      "source": [
        "<a href=\"https://colab.research.google.com/github/Vishnu5789/working-with-HTML-styles/blob/main/palindrom.ipynb\" target=\"_parent\"><img src=\"https://colab.research.google.com/assets/colab-badge.svg\" alt=\"Open In Colab\"/></a>"
      ]
    },
    {
      "cell_type": "code",
      "execution_count": 3,
      "metadata": {
        "colab": {
          "base_uri": "https://localhost:8080/"
        },
        "id": "pSlVtjWU8Uj2",
        "outputId": "1ac68fc5-37e8-4d7e-92fb-6f9553ed3b50"
      },
      "outputs": [
        {
          "output_type": "stream",
          "name": "stdout",
          "text": [
            "enter n value354\n",
            "the reverse is 453\n"
          ]
        }
      ],
      "source": [
        "n=int(input(\"enter n value\")) \n",
        "r=0 \n",
        "rev=0 \n",
        "while n!=0: \n",
        "  r=n%10 \n",
        "  rev=(rev*10)+r \n",
        "  n=n//10 \n",
        "print(\"the reverse is\",rev) \n"
      ]
    },
    {
      "cell_type": "code",
      "source": [
        "n=int(input(\"enter n value\")) \n",
        "for i in range(5): \n",
        "  n1=n \n",
        "  r=0 \n",
        "  rev=0 \n",
        "  while n!=0: \n",
        "    r=n%10 \n",
        "    rev=(rev*10)+r \n",
        "    n=n//10\n",
        "  if n1==rev: \n",
        "    print(n1,\"is sum palindrom\") \n",
        "    break\n",
        "  else: \n",
        "    n=rev+n1"
      ],
      "metadata": {
        "colab": {
          "base_uri": "https://localhost:8080/"
        },
        "id": "1qviJEcm-Ybs",
        "outputId": "a0f63ea2-2256-484b-c4ce-2d62237c8af3"
      },
      "execution_count": 8,
      "outputs": [
        {
          "output_type": "stream",
          "name": "stdout",
          "text": [
            "enter n value653\n",
            "11011 is sum palindrom\n"
          ]
        }
      ]
    }
  ]
}